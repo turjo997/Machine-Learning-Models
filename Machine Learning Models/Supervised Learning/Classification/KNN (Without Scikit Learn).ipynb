{
 "cells": [
  {
   "cell_type": "code",
   "execution_count": 1,
   "id": "5c6f43ae",
   "metadata": {},
   "outputs": [],
   "source": [
    "import numpy as np\n",
    "import scipy.spatial\n",
    "from collections import Counter"
   ]
  },
  {
   "cell_type": "code",
   "execution_count": 2,
   "id": "ff5b3db3",
   "metadata": {},
   "outputs": [],
   "source": [
    "from sklearn import datasets\n",
    "from sklearn.model_selection import train_test_split\n",
    "iris = datasets.load_iris()\n",
    "X_train, X_test, Y_train, Y_test = train_test_split(iris.data, iris.target, random_state = 15, test_size = 0.2)"
   ]
  },
  {
   "cell_type": "code",
   "execution_count": 3,
   "id": "2f77dc9a",
   "metadata": {},
   "outputs": [],
   "source": [
    "def euclidean_distance(pt1 , pt2):\n",
    "    distance = np.linalg.norm(pt2-pt1)\n",
    "    return distance"
   ]
  },
  {
   "cell_type": "code",
   "execution_count": 4,
   "id": "c61cf4ed",
   "metadata": {},
   "outputs": [],
   "source": [
    "def KNN(X_train , X_test , Y_train , Y_test , k):\n",
    "    final_output = []\n",
    "    for i in range(len(X_test)):\n",
    "        dis = []\n",
    "        for j in range(len(X_train)):\n",
    "            dist = (euclidean_distance(X_test[i] , X_train[j]))\n",
    "            dis.append([dist , j])\n",
    "       \n",
    "        dis.sort()\n",
    "        votes = []\n",
    "        dis = dis[0:k]\n",
    "        \n",
    "        votes = []\n",
    "        for p , j in dis:\n",
    "            votes.append(Y_train[j])\n",
    "        ans = Counter(votes).most_common(1)[0][0]\n",
    "        final_output.append(ans)    \n",
    "        \n",
    "    return final_output  "
   ]
  },
  {
   "cell_type": "code",
   "execution_count": 5,
   "id": "9ca9a232",
   "metadata": {},
   "outputs": [
    {
     "name": "stdout",
     "output_type": "stream",
     "text": [
      "The test data set result is :  0 1 1 0 0 1 2 1 1 2 2 1 1 1 2 0 1 2 0 2 1 0 1 1 0 0 2 2 2 1 "
     ]
    }
   ],
   "source": [
    "res  = KNN(X_train , X_test , Y_train , Y_test , 3)\n",
    "print(\"The test data set result is : \" , end= ' ')\n",
    "for i in res:\n",
    "    print(i , end= ' ')"
   ]
  },
  {
   "cell_type": "code",
   "execution_count": null,
   "id": "af0226f1",
   "metadata": {},
   "outputs": [],
   "source": []
  }
 ],
 "metadata": {
  "kernelspec": {
   "display_name": "Python 3",
   "language": "python",
   "name": "python3"
  },
  "language_info": {
   "codemirror_mode": {
    "name": "ipython",
    "version": 3
   },
   "file_extension": ".py",
   "mimetype": "text/x-python",
   "name": "python",
   "nbconvert_exporter": "python",
   "pygments_lexer": "ipython3",
   "version": "3.8.8"
  }
 },
 "nbformat": 4,
 "nbformat_minor": 5
}
