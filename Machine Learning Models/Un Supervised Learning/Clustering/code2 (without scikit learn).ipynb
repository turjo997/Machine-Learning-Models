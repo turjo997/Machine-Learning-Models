{
 "cells": [
  {
   "cell_type": "code",
   "execution_count": 1,
   "id": "04bafbe1",
   "metadata": {},
   "outputs": [],
   "source": [
    "import numpy as np\n",
    "import pandas as pd\n",
    "import matplotlib.pyplot as splt\n",
    "import seaborn \n",
    "%matplotlib inline"
   ]
  },
  {
   "cell_type": "code",
   "execution_count": 2,
   "id": "f9246b40",
   "metadata": {},
   "outputs": [],
   "source": [
    "df = pd.read_csv('Products2.csv')"
   ]
  },
  {
   "cell_type": "code",
   "execution_count": 3,
   "id": "4909d05a",
   "metadata": {},
   "outputs": [
    {
     "data": {
      "text/html": [
       "<div>\n",
       "<style scoped>\n",
       "    .dataframe tbody tr th:only-of-type {\n",
       "        vertical-align: middle;\n",
       "    }\n",
       "\n",
       "    .dataframe tbody tr th {\n",
       "        vertical-align: top;\n",
       "    }\n",
       "\n",
       "    .dataframe thead th {\n",
       "        text-align: right;\n",
       "    }\n",
       "</style>\n",
       "<table border=\"1\" class=\"dataframe\">\n",
       "  <thead>\n",
       "    <tr style=\"text-align: right;\">\n",
       "      <th></th>\n",
       "      <th>ID</th>\n",
       "      <th>Products</th>\n",
       "      <th>Quantity</th>\n",
       "      <th>Price</th>\n",
       "    </tr>\n",
       "  </thead>\n",
       "  <tbody>\n",
       "    <tr>\n",
       "      <th>0</th>\n",
       "      <td>1</td>\n",
       "      <td>Facewash</td>\n",
       "      <td>3</td>\n",
       "      <td>7</td>\n",
       "    </tr>\n",
       "    <tr>\n",
       "      <th>1</th>\n",
       "      <td>2</td>\n",
       "      <td>Cream</td>\n",
       "      <td>5</td>\n",
       "      <td>4</td>\n",
       "    </tr>\n",
       "    <tr>\n",
       "      <th>2</th>\n",
       "      <td>3</td>\n",
       "      <td>Shoes</td>\n",
       "      <td>4</td>\n",
       "      <td>3</td>\n",
       "    </tr>\n",
       "    <tr>\n",
       "      <th>3</th>\n",
       "      <td>4</td>\n",
       "      <td>Bag</td>\n",
       "      <td>4</td>\n",
       "      <td>8</td>\n",
       "    </tr>\n",
       "    <tr>\n",
       "      <th>4</th>\n",
       "      <td>5</td>\n",
       "      <td>Jacket</td>\n",
       "      <td>6</td>\n",
       "      <td>3</td>\n",
       "    </tr>\n",
       "    <tr>\n",
       "      <th>5</th>\n",
       "      <td>6</td>\n",
       "      <td>Shirt</td>\n",
       "      <td>3</td>\n",
       "      <td>8</td>\n",
       "    </tr>\n",
       "  </tbody>\n",
       "</table>\n",
       "</div>"
      ],
      "text/plain": [
       "   ID   Products  Quantity  Price\n",
       "0   1   Facewash         3      7\n",
       "1   2      Cream         5      4\n",
       "2   3      Shoes         4      3\n",
       "3   4        Bag         4      8\n",
       "4   5     Jacket         6      3\n",
       "5   6      Shirt         3      8"
      ]
     },
     "execution_count": 3,
     "metadata": {},
     "output_type": "execute_result"
    }
   ],
   "source": [
    "df"
   ]
  },
  {
   "cell_type": "code",
   "execution_count": 4,
   "id": "bf3f35b4",
   "metadata": {},
   "outputs": [
    {
     "data": {
      "text/html": [
       "<div>\n",
       "<style scoped>\n",
       "    .dataframe tbody tr th:only-of-type {\n",
       "        vertical-align: middle;\n",
       "    }\n",
       "\n",
       "    .dataframe tbody tr th {\n",
       "        vertical-align: top;\n",
       "    }\n",
       "\n",
       "    .dataframe thead th {\n",
       "        text-align: right;\n",
       "    }\n",
       "</style>\n",
       "<table border=\"1\" class=\"dataframe\">\n",
       "  <thead>\n",
       "    <tr style=\"text-align: right;\">\n",
       "      <th></th>\n",
       "      <th>ID</th>\n",
       "      <th>Quantity</th>\n",
       "      <th>Price</th>\n",
       "    </tr>\n",
       "  </thead>\n",
       "  <tbody>\n",
       "    <tr>\n",
       "      <th>count</th>\n",
       "      <td>6.000000</td>\n",
       "      <td>6.000000</td>\n",
       "      <td>6.000000</td>\n",
       "    </tr>\n",
       "    <tr>\n",
       "      <th>mean</th>\n",
       "      <td>3.500000</td>\n",
       "      <td>4.166667</td>\n",
       "      <td>5.500000</td>\n",
       "    </tr>\n",
       "    <tr>\n",
       "      <th>std</th>\n",
       "      <td>1.870829</td>\n",
       "      <td>1.169045</td>\n",
       "      <td>2.428992</td>\n",
       "    </tr>\n",
       "    <tr>\n",
       "      <th>min</th>\n",
       "      <td>1.000000</td>\n",
       "      <td>3.000000</td>\n",
       "      <td>3.000000</td>\n",
       "    </tr>\n",
       "    <tr>\n",
       "      <th>25%</th>\n",
       "      <td>2.250000</td>\n",
       "      <td>3.250000</td>\n",
       "      <td>3.250000</td>\n",
       "    </tr>\n",
       "    <tr>\n",
       "      <th>50%</th>\n",
       "      <td>3.500000</td>\n",
       "      <td>4.000000</td>\n",
       "      <td>5.500000</td>\n",
       "    </tr>\n",
       "    <tr>\n",
       "      <th>75%</th>\n",
       "      <td>4.750000</td>\n",
       "      <td>4.750000</td>\n",
       "      <td>7.750000</td>\n",
       "    </tr>\n",
       "    <tr>\n",
       "      <th>max</th>\n",
       "      <td>6.000000</td>\n",
       "      <td>6.000000</td>\n",
       "      <td>8.000000</td>\n",
       "    </tr>\n",
       "  </tbody>\n",
       "</table>\n",
       "</div>"
      ],
      "text/plain": [
       "             ID  Quantity     Price\n",
       "count  6.000000  6.000000  6.000000\n",
       "mean   3.500000  4.166667  5.500000\n",
       "std    1.870829  1.169045  2.428992\n",
       "min    1.000000  3.000000  3.000000\n",
       "25%    2.250000  3.250000  3.250000\n",
       "50%    3.500000  4.000000  5.500000\n",
       "75%    4.750000  4.750000  7.750000\n",
       "max    6.000000  6.000000  8.000000"
      ]
     },
     "execution_count": 4,
     "metadata": {},
     "output_type": "execute_result"
    }
   ],
   "source": [
    "df.describe()"
   ]
  },
  {
   "cell_type": "code",
   "execution_count": 5,
   "id": "122fb563",
   "metadata": {},
   "outputs": [],
   "source": [
    "c1 = []\n",
    "c2 = []\n",
    "new = []\n",
    "c1 = [df.Quantity[0] , df.Price[0]]\n",
    "c2 = [df.Quantity[1] , df.Price[1]]"
   ]
  },
  {
   "cell_type": "code",
   "execution_count": 6,
   "id": "5ceaccb9",
   "metadata": {},
   "outputs": [
    {
     "data": {
      "text/plain": [
       "<seaborn.axisgrid.PairGrid at 0x24353a37700>"
      ]
     },
     "execution_count": 6,
     "metadata": {},
     "output_type": "execute_result"
    },
    {
     "data": {
      "image/png": "[encoded data removed]",
      "text/plain": [
       "<Figure size 540x540 with 12 Axes>"
      ]
     },
     "metadata": {
      "needs_background": "light"
     },
     "output_type": "display_data"
    }
   ],
   "source": [
    "seaborn.pairplot(df[['ID' , 'Quantity' , 'Price']])"
   ]
  },
  {
   "cell_type": "code",
   "execution_count": 7,
   "id": "d65678aa",
   "metadata": {},
   "outputs": [],
   "source": [
    "def euclidean_distance(pt1 , pt2):\n",
    "    distance = np.linalg.norm(pt1-pt2)\n",
    "    return distance"
   ]
  },
  {
   "cell_type": "code",
   "execution_count": 8,
   "id": "6bcc419b",
   "metadata": {},
   "outputs": [],
   "source": [
    "def kmeans_cluster_centers_(a , b , c , d):\n",
    "    array = ([[a,b] , [c,d]])\n",
    "    print(\"The centeroid are: \" , array)"
   ]
  },
  {
   "cell_type": "code",
   "execution_count": 9,
   "id": "b04bff76",
   "metadata": {},
   "outputs": [],
   "source": [
    "def K_Means_Clustering():\n",
    "    x = []\n",
    "    y = []\n",
    "    z = []\n",
    "    w = []\n",
    "    \n",
    "    cnt = cnt1 = 0\n",
    "    cen1 = [0 , 0]\n",
    "    cen2 = [0 , 0]\n",
    "    \n",
    "    while ((cen1 == c1) & (cen2 == c2) == False):\n",
    "        #new = []\n",
    "        \n",
    "        for i in range(len(df)):\n",
    "            cen1 = c1\n",
    "            cen2 = c2\n",
    "            \n",
    "            a = np.array([c1[0] , c1[1]])\n",
    "            b = np.array([df.Quantity[i] , df.Price[i]])\n",
    "            c = np.array([c2[0] , c2[1]])               \n",
    "            Distance_From_C1 = euclidean_distance(a , b) \n",
    "            Distance_From_C2 = euclidean_distance(b , c)\n",
    "            \n",
    "            print(Distance_From_C1 , end = ' ')\n",
    "            print(Distance_From_C2 , end = ' ')\n",
    "            if Distance_From_C1 <= Distance_From_C2:\n",
    "                new.append(1)\n",
    "                x.append(df.Quantity[i])\n",
    "                y.append(df.Price[i])\n",
    "            else :\n",
    "                new.append(0)\n",
    "                z.append(df.Quantity[i])\n",
    "                w.append(df.Price[i])\n",
    "                \n",
    "        sum = 0.0 \n",
    "        sum1 = 0.0\n",
    "            \n",
    "        for k in range(len(x)):\n",
    "            sum += x[k]\n",
    "        for kk in range(len(y)):\n",
    "            sum1 += y[kk]    \n",
    "            \n",
    "        res = sum/ len(x)\n",
    "        res1 = sum1/ len(y)\n",
    "            \n",
    "            #print(res , res1)\n",
    "            \n",
    "        c1[0] = res\n",
    "        c1[1] = res1\n",
    "            \n",
    "            #print(c1[0] , c1[1])\n",
    "            \n",
    "        sum2 = 0 \n",
    "        sum3 = 0\n",
    "        for k in range(len(z)):\n",
    "            sum2 += z[k]\n",
    "        for kk in range(len(w)):\n",
    "            sum3 += w[kk]\n",
    "                \n",
    "        res = sum2/ len(z)\n",
    "        res1 = sum3/ len(w)\n",
    "            \n",
    "        c2[0] = res\n",
    "        c2[1] = res1\n",
    "            \n",
    "            #print(c2[0] , c2[1])\n",
    "    kmeans_cluster_centers_(c1[0] , c1[1] , c2[0] , c2[1])      "
   ]
  },
  {
   "cell_type": "code",
   "execution_count": 10,
   "id": "7f91e153",
   "metadata": {},
   "outputs": [
    {
     "name": "stdout",
     "output_type": "stream",
     "text": [
      "0.0 3.605551275463989 3.605551275463989 0.0 4.123105625617661 1.4142135623730951 1.4142135623730951 4.123105625617661 5.0 1.4142135623730951 1.0 4.47213595499958 The centeroid are:  [[3.3333333333333335, 7.666666666666667], [5.0, 3.3333333333333335]]\n"
     ]
    }
   ],
   "source": [
    "K_Means_Clustering()"
   ]
  },
  {
   "cell_type": "code",
   "execution_count": 11,
   "id": "f33fccfb",
   "metadata": {},
   "outputs": [],
   "source": [
    "df.insert(len(df.columns), 'colC' , new) "
   ]
  },
  {
   "cell_type": "code",
   "execution_count": 12,
   "id": "9975b76f",
   "metadata": {},
   "outputs": [
    {
     "data": {
      "text/plain": [
       "0    3\n",
       "1    3\n",
       "Name: colC, dtype: int64"
      ]
     },
     "execution_count": 12,
     "metadata": {},
     "output_type": "execute_result"
    }
   ],
   "source": [
    "df['colC'].value_counts()"
   ]
  },
  {
   "cell_type": "code",
   "execution_count": 14,
   "id": "c4a2d112",
   "metadata": {},
   "outputs": [
    {
     "data": {
      "text/plain": [
       "<AxesSubplot:xlabel='Quantity', ylabel='Price'>"
      ]
     },
     "execution_count": 14,
     "metadata": {},
     "output_type": "execute_result"
    },
    {
     "data": {
      "image/png": "[encoded data removed]",
      "text/plain": [
       "<Figure size 432x288 with 1 Axes>"
      ]
     },
     "metadata": {
      "needs_background": "light"
     },
     "output_type": "display_data"
    }
   ],
   "source": [
    "seaborn.scatterplot(x = 'Quantity' , y = 'Price' , hue = 'colC', data = df)"
   ]
  },
  {
   "cell_type": "code",
   "execution_count": 15,
   "id": "53d09315",
   "metadata": {},
   "outputs": [],
   "source": [
    "df = pd.read_csv('medicine.csv')"
   ]
  },
  {
   "cell_type": "code",
   "execution_count": null,
   "id": "0216449c",
   "metadata": {},
   "outputs": [],
   "source": []
  },
  {
   "cell_type": "code",
   "execution_count": 16,
   "id": "3f9d3787",
   "metadata": {},
   "outputs": [
    {
     "data": {
      "text/html": [
       "<div>\n",
       "<style scoped>\n",
       "    .dataframe tbody tr th:only-of-type {\n",
       "        vertical-align: middle;\n",
       "    }\n",
       "\n",
       "    .dataframe tbody tr th {\n",
       "        vertical-align: top;\n",
       "    }\n",
       "\n",
       "    .dataframe thead th {\n",
       "        text-align: right;\n",
       "    }\n",
       "</style>\n",
       "<table border=\"1\" class=\"dataframe\">\n",
       "  <thead>\n",
       "    <tr style=\"text-align: right;\">\n",
       "      <th></th>\n",
       "      <th>Object</th>\n",
       "      <th>weight index</th>\n",
       "      <th>pH value</th>\n",
       "    </tr>\n",
       "  </thead>\n",
       "  <tbody>\n",
       "    <tr>\n",
       "      <th>0</th>\n",
       "      <td>A</td>\n",
       "      <td>1</td>\n",
       "      <td>4</td>\n",
       "    </tr>\n",
       "    <tr>\n",
       "      <th>1</th>\n",
       "      <td>B</td>\n",
       "      <td>2</td>\n",
       "      <td>3</td>\n",
       "    </tr>\n",
       "    <tr>\n",
       "      <th>2</th>\n",
       "      <td>C</td>\n",
       "      <td>4</td>\n",
       "      <td>2</td>\n",
       "    </tr>\n",
       "    <tr>\n",
       "      <th>3</th>\n",
       "      <td>D</td>\n",
       "      <td>5</td>\n",
       "      <td>3</td>\n",
       "    </tr>\n",
       "  </tbody>\n",
       "</table>\n",
       "</div>"
      ],
      "text/plain": [
       "  Object  weight index  pH value\n",
       "0      A             1         4\n",
       "1      B             2         3\n",
       "2      C             4         2\n",
       "3      D             5         3"
      ]
     },
     "execution_count": 16,
     "metadata": {},
     "output_type": "execute_result"
    }
   ],
   "source": [
    "df"
   ]
  },
  {
   "cell_type": "code",
   "execution_count": 17,
   "id": "d8b50502",
   "metadata": {},
   "outputs": [],
   "source": [
    "df.rename(columns = {'weight index' : 'weight' , 'pH value' : 'value'} , inplace =True)"
   ]
  },
  {
   "cell_type": "code",
   "execution_count": 18,
   "id": "e40d4228",
   "metadata": {},
   "outputs": [],
   "source": [
    "c1 = []\n",
    "c2 = []\n",
    "new = []\n",
    "c1 = [df.weight[0] , df.value[0]]\n",
    "c2 = [df.weight[1] , df.value[1]]"
   ]
  },
  {
   "cell_type": "code",
   "execution_count": 19,
   "id": "706b29ba",
   "metadata": {},
   "outputs": [],
   "source": [
    "def K_Means_Clustering():\n",
    "   \n",
    "  \n",
    "    cen1 = [0 , 0]\n",
    "    cen2 = [0 , 0]\n",
    "    \n",
    "    while ((cen1 == c1) & (cen2 == c2) == False):\n",
    "        \n",
    "        new = []\n",
    "        \n",
    "        cen1[0] = c1[0]\n",
    "        cen1[1] = c1[1]\n",
    "        cen2[0] = c2[0]\n",
    "        cen2[1] = c2[1]\n",
    "        \n",
    "        x = []\n",
    "        y = []\n",
    "        z = []\n",
    "        w = []\n",
    "        \n",
    "        print(cen1[0] , cen1[1])\n",
    "        print(cen2[0] , cen2[1])\n",
    "        \n",
    "        for i in range(len(df)):\n",
    "\n",
    "            a = np.array([c1[0] , c1[1]])\n",
    "            b = np.array([df.weight[i] , df.value[i]])\n",
    "            c = np.array([c2[0] , c2[1]])               \n",
    "            Distance_From_C1 = euclidean_distance(a , b) \n",
    "            Distance_From_C2 = euclidean_distance(b , c)\n",
    "            \n",
    "            print(Distance_From_C1 , end = ' ')\n",
    "            print(Distance_From_C2 , end = ' ')\n",
    "            if Distance_From_C1 <= Distance_From_C2:\n",
    "                new.append(1)\n",
    "                x.append(df.weight[i])\n",
    "                y.append(df.value[i])\n",
    "            else :\n",
    "                new.append(0)\n",
    "                z.append(df.weight[i])\n",
    "                w.append(df.value[i])\n",
    "                \n",
    "        sum = 0.0 \n",
    "        sum1 = 0.0\n",
    "        res = res1 = 0.0\n",
    "            \n",
    "        for k in range(len(x)):\n",
    "            sum += x[k]\n",
    "        for kk in range(len(y)):\n",
    "            sum1 += y[kk]    \n",
    "            \n",
    "        res = sum/ len(x)\n",
    "        res1 = sum1/ len(y)\n",
    "            \n",
    "            #print(res , res1)\n",
    "            \n",
    "        c1[0] = res\n",
    "        c1[1] = res1\n",
    "            \n",
    "            #print(c1[0] , c1[1])\n",
    "            \n",
    "        sum2 = 0 \n",
    "        sum3 = 0\n",
    "        for m in range(len(z)):\n",
    "            sum2 += z[m]\n",
    "        for n in range(len(w)):\n",
    "            sum3 += w[n]\n",
    "                \n",
    "        res = res1 = 0.0\n",
    "        \n",
    "        res = sum2/ len(z)\n",
    "        res1 = sum3/ len(w)\n",
    "            \n",
    "        c2[0] = res\n",
    "        c2[1] = res1\n",
    "            \n",
    "            #print(c2[0] , c2[1])\n",
    "    kmeans_cluster_centers_(c1[0] , c1[1] , c2[0] , c2[1]) "
   ]
  },
  {
   "cell_type": "code",
   "execution_count": 20,
   "id": "fb99ca49",
   "metadata": {},
   "outputs": [
    {
     "name": "stdout",
     "output_type": "stream",
     "text": [
      "1 4\n",
      "2 3\n",
      "0.0 1.4142135623730951 1.4142135623730951 0.0 3.605551275463989 2.23606797749979 4.123105625617661 3.0 1.0 4.0\n",
      "3.6666666666666665 2.6666666666666665\n",
      "0.0 2.9814239699997196 1.4142135623730951 1.6996731711975948 3.605551275463989 0.7453559924999298 4.123105625617661 1.3743685418725538 1.5 3.5\n",
      "4.5 2.5\n",
      "0.7071067811865476 3.8078865529319543 0.7071067811865476 2.5495097567963922 2.9154759474226504 0.7071067811865476 3.5355339059327378 0.7071067811865476 The centeroid are:  [[1.5, 3.5], [4.5, 2.5]]\n"
     ]
    }
   ],
   "source": [
    "K_Means_Clustering()"
   ]
  }
 ],
 "metadata": {
  "kernelspec": {
   "display_name": "Python 3",
   "language": "python",
   "name": "python3"
  },
  "language_info": {
   "codemirror_mode": {
    "name": "ipython",
    "version": 3
   },
   "file_extension": ".py",
   "mimetype": "text/x-python",
   "name": "python",
   "nbconvert_exporter": "python",
   "pygments_lexer": "ipython3",
   "version": "3.8.8"
  }
 },
 "nbformat": 4,
 "nbformat_minor": 5
}
